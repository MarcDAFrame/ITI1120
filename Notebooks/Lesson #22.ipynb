{
 "cells": [
  {
   "cell_type": "markdown",
   "metadata": {},
   "source": [
    "<div class=\"alert alert-block alert-info\">\n",
    "    <div style=\"font-size: 150%\">\n",
    "        ITI1120 - Introduction to Computer Science\n",
    "    </div>\n",
    "    <br>\n",
    "    <div style=\"font-size: 110%\">\n",
    "        Lecture #22\n",
    "        <br>\n",
    "        Dec. 4th, 2017\n",
    "        <br>\n",
    "        Prof. Vida Dujmovic\n",
    "        <br>\n",
    "        <br>\n",
    "        Notebook By: Marc Frame\n",
    "        <br>\n",
    "        <br>\n",
    "    </div>\n",
    "    <div style=\"font-size: 75%\">\n",
    "    selection sort, quick sort, merge sort, tim sort\n",
    "</div>\n",
    "</div>"
   ]
  },
  {
   "cell_type": "markdown",
   "metadata": {},
   "source": [
    "# Selection Sort"
   ]
  },
  {
   "cell_type": "markdown",
   "metadata": {},
   "source": [
    "<img src=\"git imgs/L22fig1.gif\" style=\"height: 200px; margin-left:0px\"> </img>\n",
    "fig. 1 - Selection Sort Illustrated\n",
    "<br>\n",
    "src: https://codingconnect.net/wp-content/uploads/2016/09/Selection-Sort.gif"
   ]
  },
  {
   "cell_type": "code",
   "execution_count": 18,
   "metadata": {},
   "outputs": [
    {
     "name": "stdout",
     "output_type": "stream",
     "text": [
      "[17, 20, 26, 31, 44, 54, 55, 77, 93]\n"
     ]
    }
   ],
   "source": [
    "def selectionSort(li):\n",
    "    for fillslot in range(len(li)-1,0,-1):\n",
    "        positionOfMax=0\n",
    "        for location in range(1,fillslot+1):\n",
    "            if li[location]>li[positionOfMax]:\n",
    "                positionOfMax = location\n",
    "\n",
    "        temp = li[fillslot]\n",
    "        li[fillslot] = li[positionOfMax]\n",
    "        li[positionOfMax] = temp\n",
    "\n",
    "li = [54,26,93,17,77,31,44,55,20]\n",
    "selectionSort(li)\n",
    "print(li)"
   ]
  },
  {
   "cell_type": "markdown",
   "metadata": {},
   "source": [
    "# Quick Sort"
   ]
  },
  {
   "cell_type": "markdown",
   "metadata": {},
   "source": [
    "<img src=\"git imgs/L22fig2.gif\" style=\"height: 250px; margin-left:0px\"> </img>\n",
    "fig. 2 - Qucik Sort Illustrated\n",
    "<br>\n",
    "src: https://i.makeagif.com/media/11-29-2015/Uf4BMe.gif"
   ]
  },
  {
   "cell_type": "code",
   "execution_count": 22,
   "metadata": {},
   "outputs": [
    {
     "name": "stdout",
     "output_type": "stream",
     "text": [
      "[-20, 21, 23, 21, -20, 35, 64, 35, 64, 69, 73.3, 420, 420, 73.3, 666]\n"
     ]
    }
   ],
   "source": [
    "import random\n",
    "#the run time, best case scenario nlogn\n",
    "def quicksort(li):\n",
    "    if len(li)<2:\n",
    "        return li[:]\n",
    "    x = random.choice(li)\n",
    "    sm, eq, bg = [], [], []\n",
    "    \n",
    "    for i in li:\n",
    "        if i<x:\n",
    "            sm.append(i)\n",
    "        if i>x:\n",
    "            bg.append(i)\n",
    "        else:\n",
    "            eq.append(i)\n",
    "        \n",
    "    return quicksort(sm) + eq + quicksort(bg)\n",
    "\n",
    "li = quicksort([23,21,35,64,420,73.3,-20, 69, 666])\n",
    "print(li)"
   ]
  },
  {
   "cell_type": "markdown",
   "metadata": {},
   "source": [
    "# Merge Sort"
   ]
  },
  {
   "cell_type": "markdown",
   "metadata": {},
   "source": [
    "<img src=\"git imgs/L22fig3.gif\" style=\"height: 250px; margin-left:0px\"> </img>\n",
    "fig. 2 - Merge Sort\n",
    "<br>\n",
    "src: https://upload.wikimedia.org/wikipedia/commons/c/cc/Merge-sort-example-300px.gif"
   ]
  },
  {
   "cell_type": "code",
   "execution_count": 32,
   "metadata": {
    "collapsed": true
   },
   "outputs": [],
   "source": [
    "#the run time, best case scenario nlogn\n",
    "def mergesort(li):\n",
    "    \"\"\" Function to sort an array using merge sort algorithm \"\"\"\n",
    "    if len(li) == 0 or len(li) == 1:\n",
    "        return li\n",
    "    else:\n",
    "        middle = len(li)//2\n",
    "        a = mergesort(li[:middle])\n",
    "        b = mergesort(li[middle:])\n",
    "        return merge(a,b)\n",
    "    \n",
    "def merge(a,b):\n",
    "    \"\"\" Function to merge two arrays \"\"\"\n",
    "    c = []\n",
    "    while len(a) != 0 and len(b) != 0:\n",
    "        if a[0] < b[0]:\n",
    "            c.append(a[0])\n",
    "            a.remove(a[0])\n",
    "        else:\n",
    "            c.append(b[0])\n",
    "            b.remove(b[0])\n",
    "    if len(a) == 0:\n",
    "        c += b\n",
    "    else:\n",
    "        c += a\n",
    "    return c    \n"
   ]
  },
  {
   "cell_type": "code",
   "execution_count": 30,
   "metadata": {},
   "outputs": [
    {
     "name": "stdout",
     "output_type": "stream",
     "text": [
      "[-20, 21, 23, 35, 64, 69, 73.3, 420, 666]\n"
     ]
    }
   ],
   "source": [
    "li = mergesort([23,21,35,64,420,73.3,-20, 69, 666])\n",
    "print(li)"
   ]
  },
  {
   "cell_type": "markdown",
   "metadata": {},
   "source": [
    "# Tim Sort"
   ]
  },
  {
   "cell_type": "code",
   "execution_count": null,
   "metadata": {
    "collapsed": true
   },
   "outputs": [],
   "source": [
    "#Python uses TimSort; its a mixture between quick sort and merge sort\n",
    "%%capture\n",
    "\"\"\"\n",
    "Timsort is a hybrid sorting algorithm, derived from merge sort and insertion sort, \n",
    "designed to perform well on many kinds of real-world data. \n",
    "It was invented by Tim Peters in 2002 for use in the Python programming language. \n",
    "The algorithm finds subsets of the data that are already ordered, \n",
    "and uses the subsets to sort the data more efficiently. \n",
    "This is done by merging an identified subset, called a run, \n",
    "with existing runs until certain criteria are fulfilled. \n",
    "Timsort has been Python's standard sorting algorithm since version 2.3. \n",
    "It is now also used to sort arrays in Java SE 7, and on the Android platform.\n",
    "\"\"\""
   ]
  },
  {
   "cell_type": "markdown",
   "metadata": {},
   "source": [
    "# Bogo Sort"
   ]
  },
  {
   "cell_type": "markdown",
   "metadata": {},
   "source": [
    "<img src=\"git imgs/L22fig4.gif\" style=\"height: 250px; margin-left:0px\"> </img>\n",
    "fig. 2 - Bogo Sort\n",
    "<br>\n",
    "src: https://media.sticker.market/gif/58bff211f13e56346ca5eab1-g.gif"
   ]
  },
  {
   "cell_type": "code",
   "execution_count": 51,
   "metadata": {},
   "outputs": [
    {
     "name": "stdout",
     "output_type": "stream",
     "text": [
      "[-20, 21, 23, 35, 64, 69, 73.3, 420, 666]\n"
     ]
    }
   ],
   "source": [
    "#Bogo Sort works by random chance, and takes worst case scneario infinite time.\n",
    "import random\n",
    "def bogosort(li):\n",
    "    while not isSorted(li):\n",
    "        random.shuffle(li)\n",
    "    return li\n",
    "def isSorted(li):\n",
    "    for i in range(len(li)-1):\n",
    "        if li[i] > li[i+1]:\n",
    "            return False\n",
    "    return True\n",
    "li = [23,21,35,64,420,73.3,-20, 69, 666]\n",
    "li = bogosort(li)\n",
    "print(li)"
   ]
  }
 ],
 "metadata": {
  "kernelspec": {
   "display_name": "Python 3",
   "language": "python",
   "name": "python3"
  },
  "language_info": {
   "codemirror_mode": {
    "name": "ipython",
    "version": 3
   },
   "file_extension": ".py",
   "mimetype": "text/x-python",
   "name": "python",
   "nbconvert_exporter": "python",
   "pygments_lexer": "ipython3",
   "version": "3.5.2"
  }
 },
 "nbformat": 4,
 "nbformat_minor": 2
}
