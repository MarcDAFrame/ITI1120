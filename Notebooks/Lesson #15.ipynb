{
 "cells": [
  {
   "cell_type": "markdown",
   "metadata": {},
   "source": [
    "<div class=\"alert alert-block alert-info\">\n",
    "    <div style=\"font-size: 150%\">\n",
    "        ITI1120 - Introduction to Computer Science\n",
    "    </div>\n",
    "    <br>\n",
    "    <div style=\"font-size: 110%\">\n",
    "        Lecture #15\n",
    "        <br>\n",
    "        Nov. 8th, 2017\n",
    "        <br>\n",
    "        Prof. Vida Dujmovic\n",
    "        <br>\n",
    "        <br>\n",
    "        Notebook By: Marc Frame\n",
    "        <br>\n",
    "        <br>\n",
    "    </div>\n",
    "    <div style=\"font-size: 75%\">\n",
    "    Algorithms\n",
    "</div>\n",
    "</div>"
   ]
  },
  {
   "cell_type": "code",
   "execution_count": 2,
   "metadata": {
    "collapsed": true
   },
   "outputs": [],
   "source": [
    "#Problem 1\n",
    "#[2,100,-17,4.5...]\n",
    "#k of the largest elements\n",
    "#Option [1]\n",
    "# 1. sort L\n",
    "# 2. return the last k element\n",
    "# O(n*log(n))\n",
    "#Option [2]\n",
    "# 1. Find max in list\n",
    "# 2. remove max from L\n",
    "# O(k*n)\n",
    "\n",
    "#in this case [2] is better when k < log(n) else [1] is better"
   ]
  },
  {
   "cell_type": "code",
   "execution_count": 1,
   "metadata": {
    "collapsed": true
   },
   "outputs": [],
   "source": [
    "def selection_sort(l):\n",
    "    for i in range(len(l)-1):\n",
    "        index_min=i\n",
    "        for j in range(i, len(l)):\n",
    "            if l[j] < l[index_min]:\n",
    "                current_min=l[j]\n",
    "                index_min=j\n",
    "                \n",
    "        if l[i]>l[index_min]:\n",
    "            tmp=l[i]\n",
    "            l[i]=current_min\n",
    "            l[index_min]=tmp\n",
    "selection_sort([1,2,3])"
   ]
  },
  {
   "cell_type": "code",
   "execution_count": null,
   "metadata": {
    "collapsed": true
   },
   "outputs": [],
   "source": []
  }
 ],
 "metadata": {
  "kernelspec": {
   "display_name": "Python 3",
   "language": "python",
   "name": "python3"
  },
  "language_info": {
   "codemirror_mode": {
    "name": "ipython",
    "version": 3
   },
   "file_extension": ".py",
   "mimetype": "text/x-python",
   "name": "python",
   "nbconvert_exporter": "python",
   "pygments_lexer": "ipython3",
   "version": "3.5.2"
  }
 },
 "nbformat": 4,
 "nbformat_minor": 2
}
