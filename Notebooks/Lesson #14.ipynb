{
 "cells": [
  {
   "cell_type": "markdown",
   "metadata": {},
   "source": [
    "<div class=\"alert alert-block alert-info\">\n",
    "    <div style=\"font-size: 150%\">\n",
    "        ITI1120 - Introduction to Computer Science\n",
    "    </div>\n",
    "    <br>\n",
    "    <div style=\"font-size: 110%\">\n",
    "        Lecture #14\n",
    "        <br>\n",
    "        Nov. 6th, 2017\n",
    "        <br>\n",
    "        Prof. Vida Dujmovic\n",
    "        <br>\n",
    "        <br>\n",
    "        Notebook By: Marc Frame\n",
    "        <br>\n",
    "        <br>\n",
    "    </div>\n",
    "    <div style=\"font-size: 75%\">\n",
    "    O notation\n",
    "</div>\n",
    "</div>"
   ]
  },
  {
   "cell_type": "code",
   "execution_count": 1,
   "metadata": {
    "collapsed": true
   },
   "outputs": [],
   "source": [
    "def print_ints(n):\n",
    "    for i in range(1, n+1): # n\n",
    "        print(i)            # n\n",
    "        print(\"*\")          # n\n",
    "                            # total: 3n = O(n)\n",
    "\n",
    "def print_odds(n):\n",
    "    for i in range(2, n+1, 2): # 0.5n\n",
    "        print(i)               # 0.5n\n",
    "        print(\"*\")             # 0.5n\n",
    "                               # total: 1.5n = O(n)\n",
    "\n",
    "def print_foo(n):\n",
    "    for i in range(1, n+1):         # n\n",
    "        for j in range(1, n+n1):    # n^2\n",
    "                print(i, j)         # n^2\n",
    "                                    # total: n + 2n^2 <= n^2 + 2n^2 = 3n^2 = O(n^2)\n",
    "                \n",
    "def mystery():\n",
    "    print(\"starting n=\", n) # 1\n",
    "    while n > 1: # log n\n",
    "        n = n//2 # 1\n",
    "        print(n) # 1\n",
    "                 # total: log n + 3 = O(log n)"
   ]
  },
  {
   "cell_type": "code",
   "execution_count": 2,
   "metadata": {
    "collapsed": true
   },
   "outputs": [],
   "source": [
    "def binary_search(li, el):\n",
    "    '''\n",
    "    \n",
    "    '''\n",
    "    counter = 0\n",
    "    if not li:\n",
    "        return False\n",
    "    \n",
    "    while True:\n",
    "        counter += 1\n",
    "#         print(li, len(li)//2)\n",
    "        mid = li[(len(li)-1)// 2]\n",
    "        if el > mid:\n",
    "            li = li[mid-1:]\n",
    "        elif el < mid:\n",
    "            li = li[:mid]\n",
    "        else:\n",
    "            return mid, counter\n",
    "        \n"
   ]
  },
  {
   "cell_type": "code",
   "execution_count": 3,
   "metadata": {},
   "outputs": [
    {
     "data": {
      "text/plain": [
       "(6, 15)"
      ]
     },
     "execution_count": 3,
     "metadata": {},
     "output_type": "execute_result"
    }
   ],
   "source": [
    "binary_search([i for i in range(40000)], 6)"
   ]
  }
 ],
 "metadata": {
  "kernelspec": {
   "display_name": "Python 3",
   "language": "python",
   "name": "python3"
  },
  "language_info": {
   "codemirror_mode": {
    "name": "ipython",
    "version": 3
   },
   "file_extension": ".py",
   "mimetype": "text/x-python",
   "name": "python",
   "nbconvert_exporter": "python",
   "pygments_lexer": "ipython3",
   "version": "3.5.2"
  }
 },
 "nbformat": 4,
 "nbformat_minor": 2
}
