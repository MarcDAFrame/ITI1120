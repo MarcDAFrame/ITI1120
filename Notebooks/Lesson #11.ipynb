{
 "cells": [
  {
   "cell_type": "markdown",
   "metadata": {},
   "source": [
    "<div class=\"alert alert-block alert-info\">\n",
    "    <div style=\"font-size: 150%\">\n",
    "        ITI1120 - Introduction to Computer Science\n",
    "    </div>\n",
    "    <br>\n",
    "    <div style=\"font-size: 110%\">\n",
    "        Lecture #11\n",
    "        <br>\n",
    "        Oct. 16th, 2017\n",
    "        <br>\n",
    "        Prof. Vida Dujmovic\n",
    "        <br>\n",
    "        <br>\n",
    "        Notebook By: Marc Frame\n",
    "        <br>\n",
    "        <br>\n",
    "    </div>\n",
    "    <div style=\"font-size: 75%\">\n",
    "        Number of operations\n",
    "    </div>\n",
    "</div>"
   ]
  },
  {
   "cell_type": "code",
   "execution_count": 1,
   "metadata": {
    "collapsed": true
   },
   "outputs": [],
   "source": [
    "#O(n) represents the number of operations performed\n",
    "#This is known as time complexity https://en.wikipedia.org/wiki/Time_complexity "
   ]
  },
  {
   "cell_type": "code",
   "execution_count": 2,
   "metadata": {
    "collapsed": true
   },
   "outputs": [],
   "source": [
    "def maximum(li):\n",
    "    current_maximum = li[0]           # 1 operation\n",
    "    for number in li:                 # n operations\n",
    "        if number > current_maximum:  # n operations\n",
    "            current_maximum = number  # <= n operations\n",
    "    return current_maximum            # 1 operation\n",
    "\n",
    "#total number of operations of my is ast work O(n) <=  3n + 2"
   ]
  },
  {
   "cell_type": "code",
   "execution_count": 3,
   "metadata": {
    "collapsed": true
   },
   "outputs": [],
   "source": [
    "def compare(li1, li2):\n",
    "    for i in range(len(li1)):  # n\n",
    "        if li1[i] > li2[i]:    # n\n",
    "            return False       # <= 1\n",
    "    return True                # <= 1\n",
    "#O(n) <= 2n + 2"
   ]
  },
  {
   "cell_type": "code",
   "execution_count": 4,
   "metadata": {},
   "outputs": [
    {
     "data": {
      "text/plain": [
       "True"
      ]
     },
     "execution_count": 4,
     "metadata": {},
     "output_type": "execute_result"
    }
   ],
   "source": [
    "def duplicates(li):\n",
    "    \"\"\"(list of numbers) -> bool\n",
    "    return True if li contains duplicate numbers else False\n",
    "    \"\"\"\n",
    "    for y,n1 in enumerate(li):        # n\n",
    "        for x,n2 in enumerate(li):    # n^2\n",
    "            if n1 == n2 and x != y:   # n^2\n",
    "#                 return False          # <= 1\n",
    "                pass\n",
    "    return True                       # <= 1\n",
    "\n",
    "#0(n) <= 2n^2 + n + 2\n",
    "\n",
    "duplicates([x for x in range(1000)])"
   ]
  },
  {
   "cell_type": "code",
   "execution_count": 5,
   "metadata": {
    "collapsed": true
   },
   "outputs": [],
   "source": [
    "import time\n",
    "def run_time(function, args):\n",
    "    start = time.time()\n",
    "    \n",
    "    function(args)\n",
    "    \n",
    "    return time.time() - start"
   ]
  },
  {
   "cell_type": "code",
   "execution_count": 6,
   "metadata": {
    "collapsed": true
   },
   "outputs": [],
   "source": [
    "def simple_algorithm(num):\n",
    "    for i in range(num):      # n\n",
    "        for j in range(num):  # n^2\n",
    "            i + j      # n\n",
    "    # O(n) n^2 + 2n\n",
    "            "
   ]
  },
  {
   "cell_type": "code",
   "execution_count": 7,
   "metadata": {},
   "outputs": [
    {
     "name": "stdout",
     "output_type": "stream",
     "text": [
      "Time elapsed for n = 10 1.7404556274414062e-05\n",
      "Time elapsed for n = 100 0.00067901611328125\n",
      "Time elapsed for n = 1000 0.07973623275756836\n"
     ]
    }
   ],
   "source": [
    "print('Time elapsed for n = 10', run_time(simple_algorithm, 10))\n",
    "# O(10) = 10^2 + 2*10 = 120\n",
    "print('Time elapsed for n = 100', run_time(simple_algorithm, 100))\n",
    "# O(100) = 100^2 + 2*100 = 10200\n",
    "print('Time elapsed for n = 1000', run_time(simple_algorithm, 1000))\n",
    "# O(1000) = 1000^2 + 2*1000 = 1002000\n",
    "\n",
    "#therefor o(10) experimentally should be 10200 / 120 =~ 85 times slower\n",
    "#experimentally it equals 0.002081 / 0.0000398 =~ 33 times slower\n",
    "# 1002000/10200 =~ 99 times slower\n",
    "#experimentally it equals 0.002081 / 0.0000398 =~ 139 times slower"
   ]
  }
 ],
 "metadata": {
  "kernelspec": {
   "display_name": "Python 3",
   "language": "python",
   "name": "python3"
  },
  "language_info": {
   "codemirror_mode": {
    "name": "ipython",
    "version": 3
   },
   "file_extension": ".py",
   "mimetype": "text/x-python",
   "name": "python",
   "nbconvert_exporter": "python",
   "pygments_lexer": "ipython3",
   "version": "3.5.2"
  }
 },
 "nbformat": 4,
 "nbformat_minor": 2
}
