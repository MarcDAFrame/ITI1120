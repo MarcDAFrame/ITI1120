{
 "cells": [
  {
   "cell_type": "markdown",
   "metadata": {},
   "source": [
    "<div class=\"alert alert-block alert-info\">\n",
    "    <div style=\"font-size: 150%\">\n",
    "        ITI1120 - Introduction to Computer Science\n",
    "    </div>\n",
    "    <br>\n",
    "    <div style=\"font-size: 110%\">\n",
    "        Lecture #5\n",
    "        <br>\n",
    "        Sept. 25th, 2017\n",
    "        <br>\n",
    "        Prof. Vida Dujmovic\n",
    "        <br>\n",
    "        <br>\n",
    "        Notebook By: Marc Frame\n",
    "        <br>\n",
    "        <br>\n",
    "    </div>\n",
    "    <div style=\"font-size: 75%\">\n",
    "        branching\n",
    "    </div>\n",
    "</div>"
   ]
  },
  {
   "cell_type": "markdown",
   "metadata": {},
   "source": [
    "## if Statments"
   ]
  },
  {
   "cell_type": "markdown",
   "metadata": {},
   "source": [
    "<img src=\"https://www.tutorialspoint.com/cprogramming/images/if_statement.jpg\" style=\"height:250px; width: 300px; margin-left:0px\"> </img>\n",
    "src: https://www.tutorialspoint.com/cprogramming/images/if_statement.jpg"
   ]
  },
  {
   "cell_type": "code",
   "execution_count": null,
   "metadata": {
    "collapsed": true
   },
   "outputs": [],
   "source": [
    "%capture\n",
    "\"\"\"\n",
    "if <condition>:\n",
    "    print(\"True\")\n",
    "    #indentation is what seperates lines from inside the if statment\n",
    "#to outside of the if statment\n",
    "\"\"\""
   ]
  },
  {
   "cell_type": "code",
   "execution_count": 2,
   "metadata": {},
   "outputs": [
    {
     "name": "stdout",
     "output_type": "stream",
     "text": [
      "good morning starshine!\n",
      "The earth says hello!\n"
     ]
    }
   ],
   "source": [
    "#without branching\n",
    "#line1 is executed, the line2, then line3...\n",
    "line1 = \"good morning starshine!\"\n",
    "print(line1)\n",
    "line3 = \"The earth says hello!\"\n",
    "print(line3)"
   ]
  },
  {
   "cell_type": "code",
   "execution_count": 6,
   "metadata": {},
   "outputs": [
    {
     "name": "stdout",
     "output_type": "stream",
     "text": [
      "True\n"
     ]
    },
    {
     "data": {
      "text/plain": [
       "'\\nThats\\n'"
      ]
     },
     "execution_count": 6,
     "metadata": {},
     "output_type": "execute_result"
    }
   ],
   "source": [
    "#if statments break this smooth execution of code and allows for stuff like this\n",
    "if True:\n",
    "    print(\"True\")\n",
    "if False:\n",
    "    print(\"False\")\n",
    "    \n",
    "#notice how False doesn't get posted?"
   ]
  },
  {
   "cell_type": "code",
   "execution_count": 8,
   "metadata": {
    "collapsed": true
   },
   "outputs": [],
   "source": [
    "%%capture\n",
    "\"\"\"\n",
    "this happens because if statments only go through if the condition is True\n",
    "\"\"\""
   ]
  },
  {
   "cell_type": "code",
   "execution_count": 9,
   "metadata": {
    "collapsed": true
   },
   "outputs": [],
   "source": [
    "if False:\n",
    "    print(\"True\")\n",
    "    print(\"GoodBye!\")"
   ]
  },
  {
   "cell_type": "code",
   "execution_count": 11,
   "metadata": {},
   "outputs": [
    {
     "name": "stdout",
     "output_type": "stream",
     "text": [
      "Goodbye\n"
     ]
    }
   ],
   "source": [
    "if False:\n",
    "    print(\"True\")\n",
    "print(\"Goodbye\")\n",
    "#Indentation matters! notice how this one prints goodbye and the other doesn't"
   ]
  },
  {
   "cell_type": "code",
   "execution_count": 12,
   "metadata": {},
   "outputs": [
    {
     "name": "stdout",
     "output_type": "stream",
     "text": [
      "I can live with this, but lets go to somewhere with AC\n"
     ]
    }
   ],
   "source": [
    "#More complex conditions\n",
    "temperature = 28 #degrees celsius\n",
    "if temperature > 30:\n",
    "    print(\"the world is melting\")\n",
    "if temperature <= 30:\n",
    "    print(\"I can live with this, but lets go to somewhere with AC\")"
   ]
  },
  {
   "cell_type": "code",
   "execution_count": 14,
   "metadata": {},
   "outputs": [
    {
     "name": "stdout",
     "output_type": "stream",
     "text": [
      "I can live with this, but lets go to somewhere with AC\n"
     ]
    }
   ],
   "source": [
    "#else statments\n",
    "if temperature > 30:\n",
    "    print(\"the world is melting\")\n",
    "else:\n",
    "    print(\"I can live with this, but lets go to somewhere with AC\")"
   ]
  },
  {
   "cell_type": "code",
   "execution_count": 15,
   "metadata": {},
   "outputs": [
    {
     "name": "stdout",
     "output_type": "stream",
     "text": [
      "Good summer weather\n"
     ]
    }
   ],
   "source": [
    "#elif statments\n",
    "if temperature > 30:\n",
    "    print(\"thats too warm\")\n",
    "elif temperature <= 30 and temperature > 20:\n",
    "    print(\"Good summer weather\")\n",
    "else:\n",
    "    print(\"kinda chilly\")"
   ]
  },
  {
   "cell_type": "code",
   "execution_count": 22,
   "metadata": {},
   "outputs": [
    {
     "name": "stdout",
     "output_type": "stream",
     "text": [
      "10 10\n"
     ]
    }
   ],
   "source": [
    "#Absolute value\n",
    "def abs(x):\n",
    "    if x<0:\n",
    "        return -x\n",
    "    else:\n",
    "        return x\n",
    "print(abs(10), abs(-10))"
   ]
  },
  {
   "cell_type": "code",
   "execution_count": 27,
   "metadata": {},
   "outputs": [
    {
     "name": "stdout",
     "output_type": "stream",
     "text": [
      "10 10\n"
     ]
    }
   ],
   "source": [
    "#but you can do this more efficiently!\n",
    "def abs(x):\n",
    "    if x<0:\n",
    "        return -x\n",
    "    return x\n",
    "print(abs(10), abs(-10))"
   ]
  },
  {
   "cell_type": "code",
   "execution_count": null,
   "metadata": {
    "collapsed": true
   },
   "outputs": [],
   "source": []
  }
 ],
 "metadata": {
  "kernelspec": {
   "display_name": "Python 3",
   "language": "python",
   "name": "python3"
  },
  "language_info": {
   "codemirror_mode": {
    "name": "ipython",
    "version": 3
   },
   "file_extension": ".py",
   "mimetype": "text/x-python",
   "name": "python",
   "nbconvert_exporter": "python",
   "pygments_lexer": "ipython3",
   "version": "3.5.2"
  }
 },
 "nbformat": 4,
 "nbformat_minor": 2
}
