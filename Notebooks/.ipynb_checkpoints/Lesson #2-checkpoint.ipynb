{
 "cells": [
  {
   "cell_type": "code",
   "execution_count": 1,
   "metadata": {
    "collapsed": true
   },
   "outputs": [],
   "source": [
    "%%capture\n",
    "\"\"\"\n",
    "ITI1120 - Introduction to Computer Science\n",
    "Lecture #2\n",
    "Sept. 13th, 2017\n",
    "Prof. Vida Dujmovic\n",
    "\n",
    "Notebook By: Marc Frame\n",
    "\n",
    "Operations, Functions\n",
    "\"\"\""
   ]
  },
  {
   "cell_type": "code",
   "execution_count": 2,
   "metadata": {
    "collapsed": true
   },
   "outputs": [],
   "source": [
    "#today we are going to learn how to build functions"
   ]
  },
  {
   "cell_type": "code",
   "execution_count": 3,
   "metadata": {},
   "outputs": [
    {
     "data": {
      "text/plain": [
       "'\\n[]\\nx[]\\n**\\n+ or -\\n* /\\nin not < \\nnot\\nand \\nor\\n'"
      ]
     },
     "execution_count": 3,
     "metadata": {},
     "output_type": "execute_result"
    }
   ],
   "source": [
    "#operations\n",
    "# **, /, %, //, +, -, <, <=, ==, !=, >, >=\n",
    "#floating points are approximatin of real numbers python uses a double precision standard format \n",
    "#(IEE 754) that can represent with upto 17 digits\n",
    "#order of prescendence\n",
    "\"\"\"\n",
    "[]\n",
    "x[]\n",
    "**\n",
    "+ or -\n",
    "* /\n",
    "in not < \n",
    "not\n",
    "and \n",
    "or\n",
    "\"\"\""
   ]
  },
  {
   "cell_type": "code",
   "execution_count": 4,
   "metadata": {
    "collapsed": true
   },
   "outputs": [],
   "source": [
    "%%capture\n",
    "\"\"\"\n",
    "=   is used for variable assignment\n",
    "==  is an operator\n",
    "\"\"\""
   ]
  },
  {
   "cell_type": "code",
   "execution_count": 5,
   "metadata": {},
   "outputs": [
    {
     "ename": "SyntaxError",
     "evalue": "invalid syntax (<ipython-input-5-237f7d82c611>, line 4)",
     "output_type": "error",
     "traceback": [
      "\u001b[0;36m  File \u001b[0;32m\"<ipython-input-5-237f7d82c611>\"\u001b[0;36m, line \u001b[0;32m4\u001b[0m\n\u001b[0;31m    2x = 1\u001b[0m\n\u001b[0m     ^\u001b[0m\n\u001b[0;31mSyntaxError\u001b[0m\u001b[0;31m:\u001b[0m invalid syntax\n"
     ]
    }
   ],
   "source": [
    "\"\"\"\n",
    "Variables cannot start with a number\n",
    "\"\"\"\n",
    "2x = 1\n",
    "print(2x)"
   ]
  },
  {
   "cell_type": "code",
   "execution_count": 6,
   "metadata": {},
   "outputs": [
    {
     "name": "stdout",
     "output_type": "stream",
     "text": [
      "11\n"
     ]
    }
   ],
   "source": [
    "x=10 #value of x is 10\n",
    "x = x + 1 # value of x is now 11\n",
    "x\n",
    "\"\"\"\n",
    "!important note:\n",
    "only in shells like IDLE or Jupyter Notebook are you allowed to output by simply writing the variable name.\n",
    "if you want to display in the console use the built-in method print\n",
    "ex.\n",
    "print(x)\n",
    "\"\"\"\n",
    "print(x)"
   ]
  },
  {
   "cell_type": "code",
   "execution_count": 7,
   "metadata": {},
   "outputs": [
    {
     "ename": "NameError",
     "evalue": "name 'area_of_triangle' is not defined",
     "output_type": "error",
     "traceback": [
      "\u001b[0;31m---------------------------------------------------------------------------\u001b[0m",
      "\u001b[0;31mNameError\u001b[0m                                 Traceback (most recent call last)",
      "\u001b[0;32m<ipython-input-7-89f7dc60d6d4>\u001b[0m in \u001b[0;36m<module>\u001b[0;34m()\u001b[0m\n\u001b[0;32m----> 1\u001b[0;31m \u001b[0marea_of_triangle\u001b[0m\u001b[0;34m(\u001b[0m\u001b[0;36m3\u001b[0m\u001b[0;34m,\u001b[0m \u001b[0;36m4\u001b[0m\u001b[0;34m)\u001b[0m\u001b[0;34m\u001b[0m\u001b[0m\n\u001b[0m\u001b[1;32m      2\u001b[0m \u001b[0;31m#this won't work because there is no built in function called area_of_triangle\u001b[0m\u001b[0;34m\u001b[0m\u001b[0;34m\u001b[0m\u001b[0m\n",
      "\u001b[0;31mNameError\u001b[0m: name 'area_of_triangle' is not defined"
     ]
    }
   ],
   "source": [
    "area_of_triangle(3, 4)\n",
    "#this won't work because there is no built in function called area_of_triangle"
   ]
  },
  {
   "cell_type": "code",
   "execution_count": 8,
   "metadata": {
    "collapsed": true
   },
   "outputs": [],
   "source": [
    "#here is how you can create a method to calculate the area of a triangle\n",
    "\"\"\"\n",
    "def <function name>(<parameter1>, <parameter2> ):# start the function like this\n",
    "    #indents indicate that you are within the function scope\n",
    "    return parameter1 * parameter2 #this returns the name of the method\n",
    "\"\"\"\n",
    "\n",
    "def area_of_triangle(base, height):\n",
    "    \"\"\"\n",
    "    base - float - triangles base\n",
    "    height - float - triangles height\n",
    "    \n",
    "    return - float - area of circle\n",
    "    \"\"\"\n",
    "    area = (base * height) / 2\n",
    "    return area\n",
    "\n"
   ]
  },
  {
   "cell_type": "code",
   "execution_count": 9,
   "metadata": {},
   "outputs": [
    {
     "name": "stdout",
     "output_type": "stream",
     "text": [
      "Area of triangle:  6.0\n"
     ]
    }
   ],
   "source": [
    "#how to call a function\n",
    "area_of_triangle(4, 3)\n",
    "#how to capture the return of a function\n",
    "area_variable = area_of_triangle(4, 3)\n",
    "\"\"\"\n",
    "this returns a float and is captured in the variable called area_variable\n",
    "this variable can then be printed to console\n",
    "\"\"\"\n",
    "print(\"Area of triangle: \", area_variable)"
   ]
  },
  {
   "cell_type": "code",
   "execution_count": 10,
   "metadata": {},
   "outputs": [
    {
     "name": "stdout",
     "output_type": "stream",
     "text": [
      "Area of circle:  314.1592\n"
     ]
    }
   ],
   "source": [
    "#more examples\n",
    "def area_of_circle(radius):     # radius is the parameter \n",
    "    pi = 3.141592\n",
    "    area = pi * radius**2 # πr^2\n",
    "    return area                 # returns area\n",
    "print(\"Area of circle: \", area_of_circle(10))"
   ]
  },
  {
   "cell_type": "code",
   "execution_count": 11,
   "metadata": {
    "collapsed": true
   },
   "outputs": [],
   "source": [
    "%%capture\n",
    "\"\"\"\n",
    "for simplicity sake we hard coded pi into the function but there is a better way of doing it\n",
    "we can import it from python math like so\n",
    "from math import math.pi as pi\n",
    "ex.\n",
    "\"\"\"\n",
    "import math\n",
    "print(math.pi)\n",
    "\"\"\"\n",
    " \n",
    " type dir(math) to see what other useful things python offers with the math module\n",
    "\n",
    "'__doc__', '__loader__', '__name__', '__package__', '__spec__', 'acos', 'acosh', 'asin',\n",
    " 'asinh', 'atan', 'atan2', 'atanh', 'ceil', 'copysign', 'cos', 'cosh',\n",
    " 'degrees', 'e', 'erf', 'erfc', 'exp', 'expm1', 'fabs', 'factorial',\n",
    " 'floor', 'fmod', 'frexp', 'fsum', 'gamma', 'gcd', 'hypot', 'inf',\n",
    " 'isclose', 'isfinite', 'isinf', 'isnan', 'ldexp', 'lgamma', 'log', 'log10',\n",
    " 'log1p', 'log2', 'modf', 'nan', 'pi', 'pow', 'radians', 'sin',  'sinh', 'sqrt', 'tan', 'tanh', 'trunc'\n",
    "\"\"\""
   ]
  },
  {
   "cell_type": "code",
   "execution_count": 12,
   "metadata": {
    "collapsed": true
   },
   "outputs": [],
   "source": [
    "#another example of a function\n",
    "def s_to_ms(seconds):\n",
    "    \"\"\"\n",
    "    seconds - float\n",
    "    \n",
    "    return tuple\n",
    "    \"\"\"\n",
    "    minutes = seconds // 60\n",
    "    seconds = seconds%60\n",
    "    return (minutes, seconds)\n",
    "\n",
    "def s_to_hms(seconds):\n",
    "    \"\"\"\n",
    "    seconds - float\n",
    "    \n",
    "    return tuple\n",
    "    \"\"\"\n",
    "    hours   =   seconds // 3600\n",
    "    seconds = seconds%3600\n",
    "    minutes = seconds//60\n",
    "    seconds = seconds%60\n",
    "    return (hours, minutes, seconds)"
   ]
  },
  {
   "cell_type": "code",
   "execution_count": 13,
   "metadata": {},
   "outputs": [
    {
     "name": "stdout",
     "output_type": "stream",
     "text": [
      "(2, 13)\n",
      "(1, 1, 3)\n",
      "(0, 2, 0)\n"
     ]
    }
   ],
   "source": [
    "print(s_to_ms(133))\n",
    "print(s_to_hms(3663))\n",
    "print(s_to_hms(120))"
   ]
  },
  {
   "cell_type": "code",
   "execution_count": 14,
   "metadata": {
    "collapsed": true
   },
   "outputs": [],
   "source": [
    "def f1(x):\n",
    "    res=x**2 + 10\n",
    "    return res\n",
    "def f2(x):\n",
    "    res=x**2 + 10\n",
    "    print(res)\n"
   ]
  },
  {
   "cell_type": "code",
   "execution_count": 15,
   "metadata": {},
   "outputs": [
    {
     "data": {
      "text/plain": [
       "19"
      ]
     },
     "execution_count": 15,
     "metadata": {},
     "output_type": "execute_result"
    }
   ],
   "source": [
    "f1(3) #this returns the actual value"
   ]
  },
  {
   "cell_type": "code",
   "execution_count": 16,
   "metadata": {},
   "outputs": [
    {
     "name": "stdout",
     "output_type": "stream",
     "text": [
      "19\n"
     ]
    }
   ],
   "source": [
    "f2(3) #this only outputs the value"
   ]
  },
  {
   "cell_type": "code",
   "execution_count": 17,
   "metadata": {},
   "outputs": [
    {
     "data": {
      "text/plain": [
       "190"
      ]
     },
     "execution_count": 17,
     "metadata": {},
     "output_type": "execute_result"
    }
   ],
   "source": [
    "10*f1(3)"
   ]
  },
  {
   "cell_type": "code",
   "execution_count": 18,
   "metadata": {},
   "outputs": [
    {
     "name": "stdout",
     "output_type": "stream",
     "text": [
      "19\n"
     ]
    },
    {
     "ename": "TypeError",
     "evalue": "unsupported operand type(s) for *: 'int' and 'NoneType'",
     "output_type": "error",
     "traceback": [
      "\u001b[0;31m---------------------------------------------------------------------------\u001b[0m",
      "\u001b[0;31mTypeError\u001b[0m                                 Traceback (most recent call last)",
      "\u001b[0;32m<ipython-input-18-798fac501750>\u001b[0m in \u001b[0;36m<module>\u001b[0;34m()\u001b[0m\n\u001b[0;32m----> 1\u001b[0;31m \u001b[0;36m10\u001b[0m\u001b[0;34m*\u001b[0m\u001b[0mf2\u001b[0m\u001b[0;34m(\u001b[0m\u001b[0;36m3\u001b[0m\u001b[0;34m)\u001b[0m\u001b[0;34m\u001b[0m\u001b[0m\n\u001b[0m\u001b[1;32m      2\u001b[0m \u001b[0;31m#this crashes because it prints the value which means the value of the return is None\u001b[0m\u001b[0;34m\u001b[0m\u001b[0;34m\u001b[0m\u001b[0m\n",
      "\u001b[0;31mTypeError\u001b[0m: unsupported operand type(s) for *: 'int' and 'NoneType'"
     ]
    }
   ],
   "source": [
    "10*f2(3)\n",
    "#this crashes because it prints the value which means the value of the return is None"
   ]
  },
  {
   "cell_type": "code",
   "execution_count": 19,
   "metadata": {
    "collapsed": true
   },
   "outputs": [],
   "source": [
    "#python initilizes variables and functions and runs functions from the top of the file down"
   ]
  },
  {
   "cell_type": "code",
   "execution_count": 20,
   "metadata": {},
   "outputs": [],
   "source": [
    "%%capture\n",
    "f1(3)\n",
    "#notice how nothing got printed out?\n",
    "#thats because the function f1 returns a value unlike f2, which prints out the value\n",
    "print(\"this will output though!\", f1(3))"
   ]
  },
  {
   "cell_type": "code",
   "execution_count": null,
   "metadata": {
    "collapsed": true
   },
   "outputs": [],
   "source": []
  }
 ],
 "metadata": {
  "kernelspec": {
   "display_name": "Python 3",
   "language": "python",
   "name": "python3"
  },
  "language_info": {
   "codemirror_mode": {
    "name": "ipython",
    "version": 3
   },
   "file_extension": ".py",
   "mimetype": "text/x-python",
   "name": "python",
   "nbconvert_exporter": "python",
   "pygments_lexer": "ipython3",
   "version": "3.5.2"
  }
 },
 "nbformat": 4,
 "nbformat_minor": 2
}
