{
 "cells": [
  {
   "cell_type": "markdown",
   "metadata": {},
   "source": [
    "<div class=\"alert alert-block alert-info\">\n",
    "    <div style=\"font-size: 150%\">\n",
    "        ITI1120 - Introduction to Computer Science\n",
    "    </div>\n",
    "    <br>\n",
    "    <div style=\"font-size: 110%\">\n",
    "        Lecture #18\n",
    "        <br>\n",
    "        Nov. 20th, 2017\n",
    "        <br>\n",
    "        Prof. Vida Dujmovic\n",
    "        <br>\n",
    "        <br>\n",
    "        Notebook By: Marc Frame\n",
    "        <br>\n",
    "        <br>\n",
    "    </div>\n",
    "    <div style=\"font-size: 75%\">\n",
    "    Objects, inheritance\n",
    "</div>\n",
    "</div>"
   ]
  },
  {
   "cell_type": "code",
   "execution_count": 2,
   "metadata": {
    "collapsed": true
   },
   "outputs": [],
   "source": [
    "import random\n",
    "class Card:\n",
    "    def __init__(self, rank, suit):\n",
    "        self.rank=rank\n",
    "        self.suit=suit\n",
    "    def getRank(self):\n",
    "        return self.rank\n",
    "    def getSuit(self):\n",
    "        return self.suit\n",
    "    def __eq__(c1,c2):\n",
    "        return c1.rank==c2.rank and c1.suit==c2.suit\n",
    "    \n",
    "    def __repr__(self):\n",
    "        return 'Card('+str(self.rank)+','+str(self.suit)+')'\n",
    "\n",
    "class Deck:\n",
    "    def __init__(self):\n",
    "        \"\"\"(Deck)->None\"\"\"\n",
    "        #ranks and suits are deck class variables\n",
    "        #---SIDE NOTE---\n",
    "        # a = {} #THIS IS A SET\n",
    "        # b = [] #THIS IS A LIST\n",
    "        # SETs, unlike LISTs, don't maintain an order. Sets can't be indexed\n",
    "        ranks = ['2', '3', '4', '5', '6', '7', '8', '9', '10', 'J', 'Q', 'K', 'A']\n",
    "        # suits is a set of 4 Unicode sumbols representing the 4 suits\n",
    "        suits = ['\\u2660', '\\u2661', '\\u2662', '\\u2663']\n",
    "        \n",
    "        self.deck=[]\n",
    "        for rank in ranks:\n",
    "            for suit in suits:\n",
    "                self.deck.append(Card(rank, suit))\n",
    "                \n",
    "        print(self.deck)\n",
    "    \n",
    "    def shuffle(self):\n",
    "        random.shuffle(self.deck)\n",
    "    \n",
    "    def dealCard(self):\n",
    "        return self.deck.pop()\n",
    "    \n",
    "    def __len__(self):\n",
    "        return len(self.deck)\n",
    "    "
   ]
  },
  {
   "cell_type": "code",
   "execution_count": 3,
   "metadata": {},
   "outputs": [
    {
     "name": "stdout",
     "output_type": "stream",
     "text": [
      "[Card(2,♠), Card(2,♡), Card(2,♢), Card(2,♣), Card(3,♠), Card(3,♡), Card(3,♢), Card(3,♣), Card(4,♠), Card(4,♡), Card(4,♢), Card(4,♣), Card(5,♠), Card(5,♡), Card(5,♢), Card(5,♣), Card(6,♠), Card(6,♡), Card(6,♢), Card(6,♣), Card(7,♠), Card(7,♡), Card(7,♢), Card(7,♣), Card(8,♠), Card(8,♡), Card(8,♢), Card(8,♣), Card(9,♠), Card(9,♡), Card(9,♢), Card(9,♣), Card(10,♠), Card(10,♡), Card(10,♢), Card(10,♣), Card(J,♠), Card(J,♡), Card(J,♢), Card(J,♣), Card(Q,♠), Card(Q,♡), Card(Q,♢), Card(Q,♣), Card(K,♠), Card(K,♡), Card(K,♢), Card(K,♣), Card(A,♠), Card(A,♡), Card(A,♢), Card(A,♣)]\n",
      "52\n"
     ]
    }
   ],
   "source": [
    "d = Deck()\n",
    "d.shuffle()\n",
    "print(len(d))"
   ]
  },
  {
   "cell_type": "code",
   "execution_count": 4,
   "metadata": {},
   "outputs": [
    {
     "name": "stdout",
     "output_type": "stream",
     "text": [
      "[Card(6,♢), Card(4,♢), Card(A,♣), Card(8,♠), Card(9,♠), Card(9,♣), Card(2,♡), Card(5,♢), Card(4,♣), Card(6,♡), Card(Q,♢), Card(2,♢), Card(9,♢), Card(7,♣), Card(10,♠), Card(8,♣), Card(J,♠), Card(J,♢), Card(Q,♡), Card(8,♢), Card(J,♡), Card(6,♣), Card(3,♡), Card(3,♠), Card(Q,♣), Card(4,♠), Card(K,♣), Card(Q,♠), Card(K,♠), Card(3,♢), Card(J,♣), Card(7,♡), Card(3,♣), Card(2,♠), Card(7,♢), Card(9,♡), Card(10,♣), Card(6,♠), Card(K,♡), Card(A,♠), Card(K,♢), Card(10,♢), Card(A,♢), Card(8,♡), Card(10,♡), Card(2,♣), Card(7,♠), Card(A,♡), Card(5,♣), Card(4,♡), Card(5,♡), Card(5,♠)]\n"
     ]
    }
   ],
   "source": [
    "print(d.deck)"
   ]
  },
  {
   "cell_type": "code",
   "execution_count": 5,
   "metadata": {
    "collapsed": true
   },
   "outputs": [],
   "source": [
    "#i'm going to deal 26 (3/4 of the deck)\n",
    "for i in range(39):\n",
    "    d.dealCard()"
   ]
  },
  {
   "cell_type": "code",
   "execution_count": 6,
   "metadata": {},
   "outputs": [
    {
     "name": "stdout",
     "output_type": "stream",
     "text": [
      "[Card(6,♢), Card(4,♢), Card(A,♣), Card(8,♠), Card(9,♠), Card(9,♣), Card(2,♡), Card(5,♢), Card(4,♣), Card(6,♡), Card(Q,♢), Card(2,♢), Card(9,♢)]\n"
     ]
    }
   ],
   "source": [
    "print(d.deck)"
   ]
  },
  {
   "cell_type": "code",
   "execution_count": 7,
   "metadata": {},
   "outputs": [
    {
     "name": "stdout",
     "output_type": "stream",
     "text": [
      "13\n"
     ]
    }
   ],
   "source": [
    "print(len(d))"
   ]
  },
  {
   "cell_type": "code",
   "execution_count": 17,
   "metadata": {},
   "outputs": [],
   "source": [
    "#inheritance\n",
    "class Animal:\n",
    "    def __init__(self, species, language):\n",
    "        self.spec = species\n",
    "        self.lang=language\n",
    "    def get(self):\n",
    "        return (self, spec, self.lang)\n",
    "    def speak(self):\n",
    "        print(\"Iam a\", self.spec, \"amd I speak\", self.lang)\n",
    "    \n",
    "class Bird(Animal):\n",
    "    #in this case, all th\n",
    "    pass\n",
    "\n",
    "#now bird is inheriting all from Animal\n",
    "\n",
    "class Monkey(Animal):\n",
    "    #in this instance, monkey replaces the __init__ method. All others are references from Animal class\n",
    "    def __init__(self, species, language, weight):\n",
    "        self.weight = weight\n",
    "        super().__init__(species, language)\n",
    "        "
   ]
  },
  {
   "cell_type": "code",
   "execution_count": 18,
   "metadata": {},
   "outputs": [],
   "source": [
    "chimp = Monkey('chimp', 'ooh ooh ahh ahh', 150)"
   ]
  },
  {
   "cell_type": "code",
   "execution_count": null,
   "metadata": {
    "collapsed": true
   },
   "outputs": [],
   "source": []
  },
  {
   "cell_type": "code",
   "execution_count": null,
   "metadata": {
    "collapsed": true
   },
   "outputs": [],
   "source": []
  }
 ],
 "metadata": {
  "kernelspec": {
   "display_name": "Python 3",
   "language": "python",
   "name": "python3"
  },
  "language_info": {
   "codemirror_mode": {
    "name": "ipython",
    "version": 3
   },
   "file_extension": ".py",
   "mimetype": "text/x-python",
   "name": "python",
   "nbconvert_exporter": "python",
   "pygments_lexer": "ipython3",
   "version": "3.5.2"
  }
 },
 "nbformat": 4,
 "nbformat_minor": 2
}
