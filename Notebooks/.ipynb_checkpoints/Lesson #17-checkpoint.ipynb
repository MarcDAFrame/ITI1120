{
 "cells": [
  {
   "cell_type": "markdown",
   "metadata": {},
   "source": [
    "<div class=\"alert alert-block alert-info\">\n",
    "    <div style=\"font-size: 150%\">\n",
    "        ITI1120 - Introduction to Computer Science\n",
    "    </div>\n",
    "    <br>\n",
    "    <div style=\"font-size: 110%\">\n",
    "        Lecture #17\n",
    "        <br>\n",
    "        Nov. 15th, 2017\n",
    "        <br>\n",
    "        Prof. Vida Dujmovic\n",
    "        <br>\n",
    "        <br>\n",
    "        Notebook By: Marc Frame\n",
    "        <br>\n",
    "        <br>\n",
    "    </div>\n",
    "    <div style=\"font-size: 75%\">\n",
    "    Objects\n",
    "</div>\n",
    "</div>"
   ]
  },
  {
   "cell_type": "code",
   "execution_count": 5,
   "metadata": {},
   "outputs": [],
   "source": [
    "class Point:\n",
    "    def __init__(self, x, y):\n",
    "        self.x = x\n",
    "        self.y = y\n",
    "    def move(self, dx, dy):\n",
    "        self.x += dx\n",
    "        self.y += dy\n",
    "        \n",
    "    def get(obj):\n",
    "        return (obj.x, obj.y)\n",
    "    \n",
    "    def set(obj, xcord,ycord):\n",
    "        obj.x=xcord\n",
    "        obj.y=ycord\n",
    "    def __eq__(ob1, ob2):\n",
    "        return ob1.x==ob2.x and ob1.y==ob2.y\n",
    "    \n",
    "    def __repr__(self):\n",
    "        return 'Point('+str(self.x)+','+str(self.y)+')'"
   ]
  },
  {
   "cell_type": "code",
   "execution_count": 6,
   "metadata": {},
   "outputs": [
    {
     "name": "stdout",
     "output_type": "stream",
     "text": [
      "Point(2.5,654)\n"
     ]
    }
   ],
   "source": [
    "p=Point(2.5, 654)\n",
    "print(p)"
   ]
  },
  {
   "cell_type": "code",
   "execution_count": 7,
   "metadata": {
    "collapsed": true
   },
   "outputs": [],
   "source": [
    "class Card:\n",
    "    def __init__(self, rank, suit):\n",
    "        self.rank=rank\n",
    "        self.suit=suit\n",
    "    def getRank(self):\n",
    "        return self.rank\n",
    "    def getSuit(self):\n",
    "        return self.suit\n",
    "    def __eq__(c1,c2):\n",
    "        return c1.rank==c2.rank and c1.suit==c2.suit\n",
    "    \n",
    "    def __repr__(self):\n",
    "        return 'Card('+str(self.rank)+','+str(self.suit)+')'"
   ]
  },
  {
   "cell_type": "code",
   "execution_count": null,
   "metadata": {
    "collapsed": true
   },
   "outputs": [],
   "source": [
    "seven_of_hearts=Card('7', '\\u2662')"
   ]
  }
 ],
 "metadata": {
  "kernelspec": {
   "display_name": "Python 3",
   "language": "python",
   "name": "python3"
  },
  "language_info": {
   "codemirror_mode": {
    "name": "ipython",
    "version": 3
   },
   "file_extension": ".py",
   "mimetype": "text/x-python",
   "name": "python",
   "nbconvert_exporter": "python",
   "pygments_lexer": "ipython3",
   "version": "3.5.2"
  }
 },
 "nbformat": 4,
 "nbformat_minor": 2
}
