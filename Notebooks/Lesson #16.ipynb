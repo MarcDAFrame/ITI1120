{
 "cells": [
  {
   "cell_type": "markdown",
   "metadata": {},
   "source": [
    "<div class=\"alert alert-block alert-info\">\n",
    "    <div style=\"font-size: 150%\">\n",
    "        ITI1120 - Introduction to Computer Science\n",
    "    </div>\n",
    "    <br>\n",
    "    <div style=\"font-size: 110%\">\n",
    "        Lecture #16\n",
    "        <br>\n",
    "        Nov. 13th, 2017\n",
    "        <br>\n",
    "        Prof. Vida Dujmovic\n",
    "        <br>\n",
    "        <br>\n",
    "        Notebook By: Marc Frame\n",
    "        <br>\n",
    "        <br>\n",
    "    </div>\n",
    "    <div style=\"font-size: 75%\">\n",
    "    Objects\n",
    "</div>\n",
    "</div>"
   ]
  },
  {
   "cell_type": "code",
   "execution_count": 1,
   "metadata": {
    "collapsed": true
   },
   "outputs": [],
   "source": [
    "#LIST OF BUILT IN DATA TYPES\n",
    "# int, float, str, list, tuple... "
   ]
  },
  {
   "cell_type": "code",
   "execution_count": 2,
   "metadata": {
    "collapsed": true
   },
   "outputs": [],
   "source": [
    "#CLASSES CAN BE USED TO MAKE NEW DATA TYPES"
   ]
  },
  {
   "cell_type": "code",
   "execution_count": 3,
   "metadata": {},
   "outputs": [
    {
     "name": "stdout",
     "output_type": "stream",
     "text": [
      "4 3 12\n",
      "14 13 182\n"
     ]
    }
   ],
   "source": [
    "class point:\n",
    "    def __init__(self, x, y):\n",
    "        self.x = x\n",
    "        self.y = y\n",
    "        \n",
    "    def xtimesy(self):\n",
    "        return (self.x * self.y)\n",
    "        \n",
    "    def move(self, dx, dy):\n",
    "        self.x += dx\n",
    "        self.y += dy\n",
    "\n",
    "a_point = point(4, 3)\n",
    "print(a_point.x, a_point.y, a_point.xtimesy())\n",
    "a_point.move(10, 10)\n",
    "print(a_point.x, a_point.y, a_point.xtimesy())"
   ]
  },
  {
   "cell_type": "code",
   "execution_count": 4,
   "metadata": {
    "collapsed": true
   },
   "outputs": [],
   "source": [
    "class Map:\n",
    "    def __init__(self, x, y):\n",
    "        self.map = [['X' for j in range(x)] for i in range(y)]\n",
    "        \n",
    "    def print_map(self):\n",
    "        for row in self.map:\n",
    "            for item in row:\n",
    "                print(item, end=' ')\n",
    "            print()\n",
    "\n",
    "    def place_player(self, x, y):\n",
    "        self.player_x = x\n",
    "        self.player_y = y\n",
    "        self.map[x][y] = 'O'\n",
    "        \n",
    "    def move_player(self, direction):\n",
    "        if direction == 'left':\n",
    "            self.place_player(self.player_x+1, self.player_y)\n",
    "        elif direction == 'right':\n",
    "            self.place_player(self.player_x-1, self.player_y)\n",
    "        elif direction == 'up':\n",
    "            self.place_player(self.player_x, self.player_y-1)\n",
    "        elif diredction == 'down':\n",
    "            self.place_player(self.player_x, self.player_y+1)\n",
    "        else:\n",
    "            pass\n",
    "        self.print_map()\n",
    "new_map = Map(10, 5)"
   ]
  },
  {
   "cell_type": "code",
   "execution_count": 5,
   "metadata": {},
   "outputs": [
    {
     "name": "stdout",
     "output_type": "stream",
     "text": [
      "X X X X X X X X X X \n",
      "X X X X X X X X X X \n",
      "X X X X X X X X X X \n",
      "X X X X X X X X X X \n",
      "X X X X X X X X X X \n"
     ]
    }
   ],
   "source": [
    "new_map.print_map()"
   ]
  },
  {
   "cell_type": "code",
   "execution_count": 6,
   "metadata": {
    "collapsed": true
   },
   "outputs": [],
   "source": [
    "new_map.place_player(1, 1)"
   ]
  },
  {
   "cell_type": "code",
   "execution_count": 7,
   "metadata": {},
   "outputs": [
    {
     "name": "stdout",
     "output_type": "stream",
     "text": [
      "X X X X X X X X X X \n",
      "X O X X X X X X X X \n",
      "X X X X X X X X X X \n",
      "X X X X X X X X X X \n",
      "X X X X X X X X X X \n"
     ]
    }
   ],
   "source": [
    "new_map.print_map()"
   ]
  },
  {
   "cell_type": "code",
   "execution_count": 8,
   "metadata": {},
   "outputs": [
    {
     "name": "stdout",
     "output_type": "stream",
     "text": [
      "X X X X X X X X X X \n",
      "X O X X X X X X X X \n",
      "X O X X X X X X X X \n",
      "X X X X X X X X X X \n",
      "X X X X X X X X X X \n"
     ]
    }
   ],
   "source": [
    "new_map.move_player('left')"
   ]
  },
  {
   "cell_type": "code",
   "execution_count": 9,
   "metadata": {},
   "outputs": [
    {
     "name": "stdout",
     "output_type": "stream",
     "text": [
      "X X X X X X X X X X \n",
      "X O X X X X X X X X \n",
      "X O X X X X X X X X \n",
      "X X X X X X X X X X \n",
      "X X X X X X X X X X \n"
     ]
    }
   ],
   "source": [
    "new_map.move_player('right')"
   ]
  },
  {
   "cell_type": "code",
   "execution_count": 10,
   "metadata": {},
   "outputs": [
    {
     "name": "stdout",
     "output_type": "stream",
     "text": [
      "X X X X X X X X X X \n",
      "O O X X X X X X X X \n",
      "X O X X X X X X X X \n",
      "X X X X X X X X X X \n",
      "X X X X X X X X X X \n"
     ]
    }
   ],
   "source": [
    "new_map.move_player('up')"
   ]
  }
 ],
 "metadata": {
  "kernelspec": {
   "display_name": "Python 3",
   "language": "python",
   "name": "python3"
  },
  "language_info": {
   "codemirror_mode": {
    "name": "ipython",
    "version": 3
   },
   "file_extension": ".py",
   "mimetype": "text/x-python",
   "name": "python",
   "nbconvert_exporter": "python",
   "pygments_lexer": "ipython3",
   "version": "3.5.2"
  }
 },
 "nbformat": 4,
 "nbformat_minor": 2
}
