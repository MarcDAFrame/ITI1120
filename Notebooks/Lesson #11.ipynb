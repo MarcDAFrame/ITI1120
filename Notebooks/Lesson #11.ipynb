{
 "cells": [
  {
   "cell_type": "markdown",
   "metadata": {},
   "source": [
    "<div class=\"alert alert-block alert-info\">\n",
    "    <div style=\"font-size: 150%\">\n",
    "        ITI1120 - Introduction to Computer Science\n",
    "    </div>\n",
    "    <br>\n",
    "    <div style=\"font-size: 110%\">\n",
    "        Lecture #11\n",
    "        <br>\n",
    "        Oct. 16th, 2017\n",
    "        <br>\n",
    "        Prof. Vida Dujmovic\n",
    "        <br>\n",
    "        <br>\n",
    "        Notebook By: Marc Frame\n",
    "        <br>\n",
    "        <br>\n",
    "    </div>\n",
    "    <div style=\"font-size: 75%\">\n",
    "        Number of operations\n",
    "    </div>\n",
    "</div>"
   ]
  },
  {
   "cell_type": "code",
   "execution_count": 7,
   "metadata": {
    "collapsed": true
   },
   "outputs": [],
   "source": [
    "#O(n) represents the number of operations performed"
   ]
  },
  {
   "cell_type": "code",
   "execution_count": 8,
   "metadata": {},
   "outputs": [],
   "source": [
    "def maximum(li):\n",
    "    current_maximum = li[0]           # 1 operation\n",
    "    for number in li:                 # n operations\n",
    "        if number > current_maximum:  # n operations\n",
    "            current_maximum = number  # <= n operations\n",
    "    return current_maximum            # 1 operation\n",
    "\n",
    "#total number of operations of my is ast work O(n) <=  3n + 2"
   ]
  },
  {
   "cell_type": "code",
   "execution_count": 9,
   "metadata": {
    "collapsed": true
   },
   "outputs": [],
   "source": [
    "def compare(li1, li2):\n",
    "    for i in range(len(li1)):  # n\n",
    "        if li1[i] > li2[i]:    # n\n",
    "            return False       # <= 1\n",
    "    return True                # <= 1\n",
    "#O(n) <= 2n + 2"
   ]
  },
  {
   "cell_type": "code",
   "execution_count": null,
   "metadata": {},
   "outputs": [],
   "source": [
    "def duplicates(li):\n",
    "    \"\"\"(list of numbers) -> bool\n",
    "    return True if li contains duplicate numbers else False\n",
    "    \"\"\"\n",
    "    for y,n1 in enumerate(li):        # n\n",
    "        for x,n2 in enumerate(li):    # n^2\n",
    "            if n1 == n2 and x != y:   # n^2\n",
    "                return False          # <= 1\n",
    "    return True                       # <= 1\n",
    "from random import randint\n",
    "duplicates([randint(0, 10000) for x in range(100000000)])"
   ]
  },
  {
   "cell_type": "code",
   "execution_count": null,
   "metadata": {
    "collapsed": true
   },
   "outputs": [],
   "source": []
  },
  {
   "cell_type": "code",
   "execution_count": null,
   "metadata": {
    "collapsed": true
   },
   "outputs": [],
   "source": []
  }
 ],
 "metadata": {
  "kernelspec": {
   "display_name": "Python 3",
   "language": "python",
   "name": "python3"
  },
  "language_info": {
   "codemirror_mode": {
    "name": "ipython",
    "version": 3
   },
   "file_extension": ".py",
   "mimetype": "text/x-python",
   "name": "python",
   "nbconvert_exporter": "python",
   "pygments_lexer": "ipython3",
   "version": "3.5.2"
  }
 },
 "nbformat": 4,
 "nbformat_minor": 2
}
