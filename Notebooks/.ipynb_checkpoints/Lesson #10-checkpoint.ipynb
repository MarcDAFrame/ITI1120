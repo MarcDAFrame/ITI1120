{
 "cells": [
  {
   "cell_type": "markdown",
   "metadata": {},
   "source": [
    "<div class=\"alert alert-block alert-info\">\n",
    "    <div style=\"font-size: 150%\">\n",
    "        ITI1120 - Introduction to Computer Science\n",
    "    </div>\n",
    "    <br>\n",
    "    <div style=\"font-size: 110%\">\n",
    "        Lecture #10\n",
    "        <br>\n",
    "        Oct. 18th, 2017\n",
    "        <br>\n",
    "        Prof. Vida Dujmovic\n",
    "        <br>\n",
    "        <br>\n",
    "        Notebook By: Marc Frame\n",
    "        <br>\n",
    "        <br>\n",
    "    </div>\n",
    "    <div style=\"font-size: 75%\">\n",
    "        while loops, binary search\n",
    "    </div>\n",
    "</div>"
   ]
  },
  {
   "cell_type": "code",
   "execution_count": 1,
   "metadata": {
    "collapsed": true
   },
   "outputs": [],
   "source": [
    "%%capture\n",
    "\"\"\"\n",
    "while CONDITION:\n",
    "    #insert code\n",
    "\"\"\""
   ]
  },
  {
   "cell_type": "code",
   "execution_count": 2,
   "metadata": {
    "collapsed": true
   },
   "outputs": [],
   "source": [
    "#be careful not to accidentally create an infinite loop\n",
    "# while True:\n",
    "#     print(1)"
   ]
  },
  {
   "cell_type": "code",
   "execution_count": 3,
   "metadata": {},
   "outputs": [
    {
     "name": "stdout",
     "output_type": "stream",
     "text": [
      "4\n",
      "3\n",
      "2\n",
      "1\n",
      "0\n"
     ]
    }
   ],
   "source": [
    "i = 4\n",
    "while i >= 0:\n",
    "    print(i)\n",
    "    i = i - 1"
   ]
  },
  {
   "cell_type": "code",
   "execution_count": 4,
   "metadata": {},
   "outputs": [
    {
     "name": "stdout",
     "output_type": "stream",
     "text": [
      "do you want to continue (yes or no)yes\n",
      "oh ok, lets try this again\n",
      "do you want to continue (yes or no)yes\n",
      "oh ok, lets try this again\n",
      "do you want to continue (yes or no)no\n",
      "oh ok, lets try this again\n"
     ]
    }
   ],
   "source": [
    "answer = \"\"\n",
    "while answer != \"no\":\n",
    "    answer = input(\"do you want to continue (yes or no)\")\n",
    "    print(\"oh ok, lets try this again\")"
   ]
  },
  {
   "cell_type": "code",
   "execution_count": 5,
   "metadata": {},
   "outputs": [
    {
     "name": "stdout",
     "output_type": "stream",
     "text": [
      "s h "
     ]
    }
   ],
   "source": [
    "def print_until_vowel(s):\n",
    "    i = 0\n",
    "    while s[i] not in \"aeiouAEIOU\":\n",
    "        print(s[i], end=' ')\n",
    "        i = i+1\n",
    "print_until_vowel(\"show\")"
   ]
  },
  {
   "cell_type": "code",
   "execution_count": 6,
   "metadata": {},
   "outputs": [
    {
     "name": "stdout",
     "output_type": "stream",
     "text": [
      "n 0   v 0 w 3 l s "
     ]
    },
    {
     "ename": "IndexError",
     "evalue": "string index out of range",
     "output_type": "error",
     "traceback": [
      "\u001b[0;31m---------------------------------------------------------------------------\u001b[0m",
      "\u001b[0;31mIndexError\u001b[0m                                Traceback (most recent call last)",
      "\u001b[0;32m<ipython-input-6-719a19a761cc>\u001b[0m in \u001b[0;36m<module>\u001b[0;34m()\u001b[0m\n\u001b[0;32m----> 1\u001b[0;31m \u001b[0mprint_until_vowel\u001b[0m\u001b[0;34m(\u001b[0m\u001b[0;34m\"n0 v0w3ls\"\u001b[0m\u001b[0;34m)\u001b[0m\u001b[0;34m\u001b[0m\u001b[0m\n\u001b[0m\u001b[1;32m      2\u001b[0m \u001b[0;31m#we need to insure that our logic doesn't create errors\u001b[0m\u001b[0;34m\u001b[0m\u001b[0;34m\u001b[0m\u001b[0m\n",
      "\u001b[0;32m<ipython-input-5-0a3ea54c59f9>\u001b[0m in \u001b[0;36mprint_until_vowel\u001b[0;34m(s)\u001b[0m\n\u001b[1;32m      1\u001b[0m \u001b[0;32mdef\u001b[0m \u001b[0mprint_until_vowel\u001b[0m\u001b[0;34m(\u001b[0m\u001b[0ms\u001b[0m\u001b[0;34m)\u001b[0m\u001b[0;34m:\u001b[0m\u001b[0;34m\u001b[0m\u001b[0m\n\u001b[1;32m      2\u001b[0m     \u001b[0mi\u001b[0m \u001b[0;34m=\u001b[0m \u001b[0;36m0\u001b[0m\u001b[0;34m\u001b[0m\u001b[0m\n\u001b[0;32m----> 3\u001b[0;31m     \u001b[0;32mwhile\u001b[0m \u001b[0ms\u001b[0m\u001b[0;34m[\u001b[0m\u001b[0mi\u001b[0m\u001b[0;34m]\u001b[0m \u001b[0;32mnot\u001b[0m \u001b[0;32min\u001b[0m \u001b[0;34m\"aeiouAEIOU\"\u001b[0m\u001b[0;34m:\u001b[0m\u001b[0;34m\u001b[0m\u001b[0m\n\u001b[0m\u001b[1;32m      4\u001b[0m         \u001b[0mprint\u001b[0m\u001b[0;34m(\u001b[0m\u001b[0ms\u001b[0m\u001b[0;34m[\u001b[0m\u001b[0mi\u001b[0m\u001b[0;34m]\u001b[0m\u001b[0;34m,\u001b[0m \u001b[0mend\u001b[0m\u001b[0;34m=\u001b[0m\u001b[0;34m' '\u001b[0m\u001b[0;34m)\u001b[0m\u001b[0;34m\u001b[0m\u001b[0m\n\u001b[1;32m      5\u001b[0m         \u001b[0mi\u001b[0m \u001b[0;34m=\u001b[0m \u001b[0mi\u001b[0m\u001b[0;34m+\u001b[0m\u001b[0;36m1\u001b[0m\u001b[0;34m\u001b[0m\u001b[0m\n",
      "\u001b[0;31mIndexError\u001b[0m: string index out of range"
     ]
    }
   ],
   "source": [
    "print_until_vowel(\"n0 v0w3ls\")\n",
    "#we need to insure that our logic doesn't create errors"
   ]
  },
  {
   "cell_type": "code",
   "execution_count": 7,
   "metadata": {},
   "outputs": [
    {
     "name": "stdout",
     "output_type": "stream",
     "text": [
      "n 0   v 0 w 3 l "
     ]
    }
   ],
   "source": [
    "def print_until_vowel(s):\n",
    "    i = 0\n",
    "    while s[i] not in \"aeiouAEIOU\" and i < len(s)-1:\n",
    "        print(s[i], end=' ')\n",
    "        i = i+1\n",
    "print_until_vowel(\"n0 v0w3ls\")"
   ]
  },
  {
   "cell_type": "code",
   "execution_count": 8,
   "metadata": {},
   "outputs": [
    {
     "name": "stdout",
     "output_type": "stream",
     "text": [
      "whats your guess 0-100? 50\n",
      "really cold!\n",
      "whats your guess 0-100? 80\n",
      "super warm\n",
      "whats your guess 0-100? 85\n",
      "warmer\n",
      "whats your guess 0-100? 75\n",
      "warmer\n",
      "whats your guess 0-100? 82\n",
      "super warm\n",
      "whats your guess 0-100? 83\n",
      "super warm\n",
      "whats your guess 0-100? 84\n",
      "warmer\n",
      "whats your guess 0-100? 79\n",
      "super warm\n",
      "whats your guess 0-100? 78\n",
      "warmer\n",
      "whats your guess 0-100? 81\n",
      "You win!\n"
     ]
    }
   ],
   "source": [
    "from random import randint\n",
    "\n",
    "def warmer_colder():\n",
    "    number = randint(0,100)\n",
    "    while True:\n",
    "        guess = int(input(\"whats your guess 0-100? \"))\n",
    "        if guess == number:\n",
    "            print(\"You win!\")\n",
    "            break\n",
    "        if abs(number - guess) < 3:\n",
    "            print(\"super warm\")\n",
    "        elif abs(number - guess) < 10:\n",
    "            print(\"warmer\")\n",
    "        elif abs(number - guess) < 15:\n",
    "            print(\"warm\")\n",
    "        elif abs(number - guess) < 25:\n",
    "            print(\"getting colder\")\n",
    "        elif abs(number - guess) < 30:\n",
    "            print(\"cold\")\n",
    "        else:\n",
    "            print(\"really cold!\")\n",
    "\n",
    "\n",
    "warmer_colder()        "
   ]
  },
  {
   "cell_type": "code",
   "execution_count": 9,
   "metadata": {
    "collapsed": true
   },
   "outputs": [],
   "source": [
    "#binary search"
   ]
  },
  {
   "cell_type": "code",
   "execution_count": 27,
   "metadata": {},
   "outputs": [
    {
     "name": "stdout",
     "output_type": "stream",
     "text": [
      "2\n"
     ]
    }
   ],
   "source": [
    "A=[1,2,3,4,5,6,7,8,9,10]\n",
    "\n",
    "def binary_search(array, item):\n",
    "    low = array[0]\n",
    "    high = array[len(array)-1]\n",
    "    for x in range(len(array)):\n",
    "        mid = array[round((high+low)/2)]\n",
    "#         print(mid)\n",
    "        if item == mid:\n",
    "            return \n",
    "        elif item < mid:\n",
    "            high = array[mid - 1]\n",
    "        elif item > mid:\n",
    "            low = array[mid + 1]\n",
    "print(binary_search(A, 4))"
   ]
  },
  {
   "cell_type": "code",
   "execution_count": null,
   "metadata": {
    "collapsed": true
   },
   "outputs": [],
   "source": []
  }
 ],
 "metadata": {
  "kernelspec": {
   "display_name": "Python 3",
   "language": "python",
   "name": "python3"
  },
  "language_info": {
   "codemirror_mode": {
    "name": "ipython",
    "version": 3
   },
   "file_extension": ".py",
   "mimetype": "text/x-python",
   "name": "python",
   "nbconvert_exporter": "python",
   "pygments_lexer": "ipython3",
   "version": "3.5.2"
  }
 },
 "nbformat": 4,
 "nbformat_minor": 2
}
