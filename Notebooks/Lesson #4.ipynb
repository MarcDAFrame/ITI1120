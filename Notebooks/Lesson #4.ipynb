{
 "cells": [
  {
   "cell_type": "markdown",
   "metadata": {},
   "source": [
    "<div class=\"alert alert-block alert-info\">\n",
    "    <div style=\"font-size: 150%\">\n",
    "        ITI1120 - Introduction to Computer Science\n",
    "    </div>\n",
    "    <br>\n",
    "    <div style=\"font-size: 110%\">\n",
    "        Lecture #4\n",
    "        <br>\n",
    "        Sept. 20th, 2017\n",
    "        <br>\n",
    "        Prof. Vida Dujmovic\n",
    "        <br>\n",
    "        <br>\n",
    "        Notebook By: Marc Frame\n",
    "        <br>\n",
    "        <br>\n",
    "    </div>\n",
    "    <div style=\"font-size: 75%\">\n",
    "        Type Contracts / Comments, and, or\n",
    "    </div>\n",
    "</div>"
   ]
  },
  {
   "cell_type": "code",
   "execution_count": 1,
   "metadata": {
    "collapsed": true
   },
   "outputs": [],
   "source": [
    "%%capture\n",
    "\"\"\"\n",
    "comments in python:\n",
    "there are two types of comments in python, the one we re currently using...\n",
    "\"\"\"\n",
    "#and one line comments\n",
    "\"\"\"\n",
    "in order to use this comment; surround what you would like to comment out with three double quotes\n",
    "\"\"\"\n",
    "#in order to use this comment; put a # sign at the start of the line you want to comment out\n",
    "'''\n",
    "this also works with single quotes\n",
    "'''"
   ]
  },
  {
   "cell_type": "code",
   "execution_count": 2,
   "metadata": {
    "collapsed": true
   },
   "outputs": [],
   "source": [
    "#here is an example of Type Contracts\n",
    "def area_of_triangle(base, height):\n",
    "    \"\"\"(number, number)->float\n",
    "    Preconditions: Base and height are both non-negative\n",
    "    returns the area of tringle with given base and height\n",
    "    \"\"\"\n",
    "    return (base*height)/2"
   ]
  },
  {
   "cell_type": "code",
   "execution_count": 3,
   "metadata": {
    "collapsed": true
   },
   "outputs": [],
   "source": [
    "def area_of_circle(radius):\n",
    "    \"\"\"(number)->float\n",
    "\n",
    "    Preconditions: radius must be non-negative\n",
    "    returns the area of a circle with given radius\n",
    "    \"\"\"\n",
    "    import math\n",
    "    return radius**2*math.pi"
   ]
  },
  {
   "cell_type": "code",
   "execution_count": 4,
   "metadata": {
    "collapsed": true
   },
   "outputs": [],
   "source": [
    "def s_to_ms(s):\n",
    "    \"\"\"(number)->(int, int)\n",
    "    Precondtions: must be non-negative\n",
    "    returns a tuple containing minutes and seconds given an integer of seconds\n",
    "    \"\"\"\n",
    "    m=s//60\n",
    "    s=s%60\n",
    "    return (m, s)"
   ]
  },
  {
   "cell_type": "code",
   "execution_count": 5,
   "metadata": {
    "collapsed": true
   },
   "outputs": [],
   "source": [
    "def draw_rec():\n",
    "    \"\"\"(None)->\n",
    "    Draws a rectangle\n",
    "    \"\"\"\n",
    "    print()\n",
    "    print(\"-------------------------\")\n",
    "    print(\"|                       |\")\n",
    "    print(\"|                       |\")\n",
    "    print(\"-------------------------\")\n",
    "    print()"
   ]
  },
  {
   "cell_type": "code",
   "execution_count": 6,
   "metadata": {},
   "outputs": [
    {
     "name": "stdout",
     "output_type": "stream",
     "text": [
      "Help on function draw_rec in module __main__:\n",
      "\n",
      "draw_rec()\n",
      "    (None)->\n",
      "    Draws a rectangle\n",
      "\n"
     ]
    }
   ],
   "source": [
    "#Help will print the type contracts\n",
    "help(draw_rec)"
   ]
  },
  {
   "cell_type": "code",
   "execution_count": 7,
   "metadata": {},
   "outputs": [
    {
     "name": "stdout",
     "output_type": "stream",
     "text": [
      "Help on function s_to_ms in module __main__:\n",
      "\n",
      "s_to_ms(s)\n",
      "    (number)->(int, int)\n",
      "    Precondtions: must be non-negative\n",
      "    returns a tuple containing minutes and seconds given an integer of seconds\n",
      "\n"
     ]
    }
   ],
   "source": [
    "help(s_to_ms)"
   ]
  },
  {
   "cell_type": "code",
   "execution_count": 8,
   "metadata": {
    "collapsed": true
   },
   "outputs": [],
   "source": [
    "#when making calls that someone else has made"
   ]
  },
  {
   "cell_type": "code",
   "execution_count": 9,
   "metadata": {},
   "outputs": [
    {
     "data": {
      "text/plain": [
       "'\\nRecipe for designing functions:\\n#1. Examples\\n#2. Type contract\\n#3. Head of the function\\n#4. Body of the function\\n'"
      ]
     },
     "execution_count": 9,
     "metadata": {},
     "output_type": "execute_result"
    }
   ],
   "source": [
    "\"\"\"\n",
    "Recipe for designing functions:\n",
    "#1. Examples\n",
    "#2. Type contract\n",
    "#3. Head of the function\n",
    "#4. Body of the function\n",
    "\"\"\""
   ]
  },
  {
   "cell_type": "code",
   "execution_count": 10,
   "metadata": {},
   "outputs": [
    {
     "data": {
      "text/plain": [
       "(True, False, False, False)"
      ]
     },
     "execution_count": 10,
     "metadata": {},
     "output_type": "execute_result"
    }
   ],
   "source": [
    "#examples of and\n",
    "True and True, True and False, True and True and False, False and False"
   ]
  },
  {
   "cell_type": "code",
   "execution_count": 11,
   "metadata": {},
   "outputs": [
    {
     "data": {
      "text/plain": [
       "(True, True, True, False)"
      ]
     },
     "execution_count": 11,
     "metadata": {},
     "output_type": "execute_result"
    }
   ],
   "source": [
    "#examples of or\n",
    "True or True, True or False, True or True or False, False or False"
   ]
  }
 ],
 "metadata": {
  "kernelspec": {
   "display_name": "Python 3",
   "language": "python",
   "name": "python3"
  },
  "language_info": {
   "codemirror_mode": {
    "name": "ipython",
    "version": 3
   },
   "file_extension": ".py",
   "mimetype": "text/x-python",
   "name": "python",
   "nbconvert_exporter": "python",
   "pygments_lexer": "ipython3",
   "version": "3.5.2"
  }
 },
 "nbformat": 4,
 "nbformat_minor": 2
}
