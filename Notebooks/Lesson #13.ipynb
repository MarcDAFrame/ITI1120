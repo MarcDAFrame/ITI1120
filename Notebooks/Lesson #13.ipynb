{
 "cells": [
  {
   "cell_type": "markdown",
   "metadata": {},
   "source": [
    "<div class=\"alert alert-block alert-info\">\n",
    "    <div style=\"font-size: 150%\">\n",
    "        ITI1120 - Introduction to Computer Science\n",
    "    </div>\n",
    "    <br>\n",
    "    <div style=\"font-size: 110%\">\n",
    "        Lecture #13\n",
    "        <br>\n",
    "        Nov. 1st, 2017\n",
    "        <br>\n",
    "        Prof. Vida Dujmovic\n",
    "        <br>\n",
    "        <br>\n",
    "        Notebook By: Marc Frame\n",
    "        <br>\n",
    "        <br>\n",
    "    </div>\n",
    "    <div style=\"font-size: 75%\">\n",
    "    2D Lists\n",
    "</div>\n",
    "</div>"
   ]
  },
  {
   "cell_type": "code",
   "execution_count": 1,
   "metadata": {
    "collapsed": true
   },
   "outputs": [],
   "source": [
    "row1 = [\"UL\", \"UM\", \"UR\"]\n",
    "row2 = [\"ML\", \"MM\", \"MR\"]\n",
    "row3 = [\"LL\", \"LM\", \"LR\"]\n",
    "twoD = [row1, row2, row3]\n",
    "#effectively I have created a list of lists"
   ]
  },
  {
   "cell_type": "markdown",
   "metadata": {},
   "source": [
    "<img src=\"git imgs/L13fig1.png\" style=\"height: 250px; margin-left:0px\"> </img>\n",
    "fig. 1 - How lists are tied to the lead\n",
    "<br>\n",
    "src: Lecture Oct 30th 2017"
   ]
  },
  {
   "cell_type": "code",
   "execution_count": 2,
   "metadata": {},
   "outputs": [
    {
     "data": {
      "text/plain": [
       "'UM'"
      ]
     },
     "execution_count": 2,
     "metadata": {},
     "output_type": "execute_result"
    }
   ],
   "source": [
    "#how to access it\n",
    "twoD[0]#this accesses the row\n",
    "twoD[0][1]#this accesses the item in the row"
   ]
  },
  {
   "cell_type": "code",
   "execution_count": 3,
   "metadata": {},
   "outputs": [
    {
     "data": {
      "text/plain": [
       "('UM', 'UM')"
      ]
     },
     "execution_count": 3,
     "metadata": {},
     "output_type": "execute_result"
    }
   ],
   "source": [
    "#there are easier ways to create a 2D list without having to create seperate lists\n",
    "newtwoD = [[\"UL\", \"UM\", \"UR\"], [\"ML\", \"MM\", \"MR\"], [\"LL\", \"LM\", \"LR\"]]\n",
    "#you can also format it to look better:\n",
    "newtwoD = [[\"UL\", \"UM\", \"UR\"],\n",
    "           [\"ML\", \"MM\", \"MR\"], \n",
    "           [\"LL\", \"LM\", \"LR\"]]\n",
    "#same thing\n",
    "newtwoD[0][1], twoD[0][1]"
   ]
  },
  {
   "cell_type": "code",
   "execution_count": 4,
   "metadata": {},
   "outputs": [
    {
     "name": "stdout",
     "output_type": "stream",
     "text": [
      "UL UM UR \n",
      "ML MM MR \n",
      "LL LM LR \n"
     ]
    }
   ],
   "source": [
    "def print_matrix(li):\n",
    "    #for row in list, for item in row\n",
    "    for row in li:\n",
    "        for item in row:\n",
    "            print(item, end = ' ')\n",
    "        print()\n",
    "print_matrix(twoD)"
   ]
  },
  {
   "cell_type": "code",
   "execution_count": 5,
   "metadata": {},
   "outputs": [
    {
     "name": "stdout",
     "output_type": "stream",
     "text": [
      "2 3 4 \n",
      "5 6 7 \n",
      "6 7 8 \n"
     ]
    }
   ],
   "source": [
    "def increment(li):\n",
    "    '''list -> list\n",
    "    takes a 2D list and increments all the values\n",
    "    '''\n",
    "    for row in li:\n",
    "        for item in row:\n",
    "            print(item+1, end = ' ')\n",
    "        \n",
    "        print()\n",
    "        \n",
    "increment([[1,2,3],[4,5,6],[5,6,7]])"
   ]
  },
  {
   "cell_type": "code",
   "execution_count": 6,
   "metadata": {},
   "outputs": [
    {
     "data": {
      "text/plain": [
       "[[[], [], [], [], []],\n",
       " [[], [], [], [], []],\n",
       " [[], [], [], [], []],\n",
       " [[], [], [], [], []],\n",
       " [[], [], [], [], []]]"
      ]
     },
     "execution_count": 6,
     "metadata": {},
     "output_type": "execute_result"
    }
   ],
   "source": [
    "def create_2D(x, y):\n",
    "    li = []\n",
    "    for i in range(x):\n",
    "        li.append([])\n",
    "        for j in range(y):\n",
    "            li[i].append([])\n",
    "    return li\n",
    "\n",
    "create_2D(5, 5)"
   ]
  }
 ],
 "metadata": {
  "kernelspec": {
   "display_name": "Python 3",
   "language": "python",
   "name": "python3"
  },
  "language_info": {
   "codemirror_mode": {
    "name": "ipython",
    "version": 3
   },
   "file_extension": ".py",
   "mimetype": "text/x-python",
   "name": "python",
   "nbconvert_exporter": "python",
   "pygments_lexer": "ipython3",
   "version": "3.5.2"
  }
 },
 "nbformat": 4,
 "nbformat_minor": 2
}
