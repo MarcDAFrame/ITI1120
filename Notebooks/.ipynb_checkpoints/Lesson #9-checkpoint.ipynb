{
 "cells": [
  {
   "cell_type": "markdown",
   "metadata": {},
   "source": [
    "<div class=\"alert alert-block alert-info\">\n",
    "    <div style=\"font-size: 150%\">\n",
    "        ITI1120 - Introduction to Computer Science\n",
    "    </div>\n",
    "    <br>\n",
    "    <div style=\"font-size: 110%\">\n",
    "        Lecture #9\n",
    "        <br>\n",
    "        Oct. 11th, 2017\n",
    "        <br>\n",
    "        Prof. Vida Dujmovic\n",
    "        <br>\n",
    "        <br>\n",
    "        Notebook By: Marc Frame\n",
    "        <br>\n",
    "        <br>\n",
    "    </div>\n",
    "    <div style=\"font-size: 75%\">\n",
    "        mutable, immutable variables\n",
    "    </div>\n",
    "</div>"
   ]
  },
  {
   "cell_type": "markdown",
   "metadata": {},
   "source": [
    "<img src=\"git imgs/L10fig1.png\" style=\"height: 250px; margin-left:0px\"> </img>\n",
    "fig. 1 - Memory indexing and immutable objects explained\n",
    "<br>\n",
    "src: https://www.cs.hmc.edu/csforall/ImperativeProgramming/imperativeprogramming.html"
   ]
  },
  {
   "cell_type": "code",
   "execution_count": 2,
   "metadata": {
    "collapsed": true
   },
   "outputs": [],
   "source": [
    "#this is addressing of memory. \n",
    "#immutable is copy of memory (fig. 1 left)\n",
    "#mutable is a completly new memory address as (fig. 1 right)"
   ]
  },
  {
   "cell_type": "markdown",
   "metadata": {},
   "source": [
    "<img src=\"git imgs/L10fig2.png\" style=\"height: 250px; margin-left:0px\"> </img>\n",
    "fig. 2 - memory \"reel\" and indexing"
   ]
  },
  {
   "cell_type": "code",
   "execution_count": 24,
   "metadata": {
    "collapsed": true
   },
   "outputs": [],
   "source": [
    "#this is examplified by variable definition\n",
    "A = 100\n",
    "B = A\n",
    "#B shares the same memory position as A \n",
    "C = 100\n",
    "#Although, C has its own memory location"
   ]
  },
  {
   "cell_type": "code",
   "execution_count": 31,
   "metadata": {},
   "outputs": [
    {
     "data": {
      "text/plain": [
       "(True, False)"
      ]
     },
     "execution_count": 31,
     "metadata": {},
     "output_type": "execute_result"
    }
   ],
   "source": [
    "A = [1,2,3]\n",
    "B = [1,2,3]\n",
    "A == B, A is B\n",
    "# == checks if they are the same memory OR value wise\n",
    "# is checks if they are the same memory wise"
   ]
  },
  {
   "cell_type": "code",
   "execution_count": 33,
   "metadata": {
    "collapsed": true
   },
   "outputs": [],
   "source": [
    "%%capture\n",
    "\"\"\"\n",
    "The == operator compares by checking for equality: \n",
    "If these cats were Python objects and we’d compare them with the == operator, \n",
    "we’d get “both cats are equal” as an answer.\n",
    "\n",
    "The is operator, however, compares identities: \n",
    "If we compared our cats with the is operator, \n",
    "we’d get “these are two different cats” as an answer.\n",
    "\"\"\""
   ]
  },
  {
   "cell_type": "code",
   "execution_count": 10,
   "metadata": {
    "collapsed": true
   },
   "outputs": [],
   "source": [
    "a = [True, False] #Mutable\n",
    "b = (True, False) #Immutable"
   ]
  },
  {
   "cell_type": "code",
   "execution_count": 18,
   "metadata": {},
   "outputs": [
    {
     "data": {
      "text/plain": [
       "[False, False]"
      ]
     },
     "execution_count": 18,
     "metadata": {},
     "output_type": "execute_result"
    }
   ],
   "source": [
    "a[0] = False\n",
    "a"
   ]
  },
  {
   "cell_type": "code",
   "execution_count": 20,
   "metadata": {},
   "outputs": [
    {
     "ename": "TypeError",
     "evalue": "'tuple' object does not support item assignment",
     "output_type": "error",
     "traceback": [
      "\u001b[0;31m----------------------------------\u001b[0m",
      "\u001b[0;31mTypeError\u001b[0mTraceback (most recent call last)",
      "\u001b[0;32m<ipython-input-20-c22b610fb6d2>\u001b[0m in \u001b[0;36m<module>\u001b[0;34m()\u001b[0m\n\u001b[0;32m----> 1\u001b[0;31m \u001b[0mb\u001b[0m\u001b[0;34m[\u001b[0m\u001b[0;36m0\u001b[0m\u001b[0;34m]\u001b[0m \u001b[0;34m=\u001b[0m \u001b[0;32mFalse\u001b[0m\u001b[0;34m\u001b[0m\u001b[0m\n\u001b[0m\u001b[1;32m      2\u001b[0m \u001b[0mb\u001b[0m\u001b[0;34m\u001b[0m\u001b[0m\n\u001b[1;32m      3\u001b[0m \u001b[0;31m#this object is immutable and as such does not allow to be editable\u001b[0m\u001b[0;34m\u001b[0m\u001b[0;34m\u001b[0m\u001b[0m\n",
      "\u001b[0;31mTypeError\u001b[0m: 'tuple' object does not support item assignment"
     ]
    }
   ],
   "source": [
    "b[0] = False\n",
    "b\n",
    "#this object is immutable and as such does not allow to be editable"
   ]
  },
  {
   "cell_type": "code",
   "execution_count": 1,
   "metadata": {
    "collapsed": true
   },
   "outputs": [],
   "source": [
    "#a = [1,2,3]\n",
    "#b = {1,2,3}\n",
    "\n",
    "#there is also a type called sets\n",
    "#sets are like lists, but they don't maintain an order and can't be indexed\n",
    "#however they are really good at being searched"
   ]
  },
  {
   "cell_type": "code",
   "execution_count": 2,
   "metadata": {},
   "outputs": [
    {
     "data": {
      "text/plain": [
       "{1, 2, 3}"
      ]
     },
     "execution_count": 2,
     "metadata": {},
     "output_type": "execute_result"
    }
   ],
   "source": [
    "#sets can remove duplicates very easily \n",
    "a = [1,2,3,3]\n",
    "set(a)"
   ]
  },
  {
   "cell_type": "code",
   "execution_count": 9,
   "metadata": {},
   "outputs": [
    {
     "name": "stdout",
     "output_type": "stream",
     "text": [
      "time elapsed 1.099548578262329\n"
     ]
    }
   ],
   "source": [
    "from random import randint\n",
    "import time\n",
    "\n",
    "l = [randint(1,10000) for i in range(10000)]\n",
    "start_list = time.time()\n",
    "for i in range(10000):\n",
    "    randint(1,10000) in l\n",
    "    \n",
    "s = [randint(1,10000) for i in range(10000)]\n",
    "start_set = time.time()\n",
    "for i in range(10000):\n",
    "    randint(1,10000) in s\n",
    "    \n",
    "print('time elapsed for list', time.time()-start_list)\n",
    "print('time elapsed for list', time.time()-start_set)"
   ]
  },
  {
   "cell_type": "code",
   "execution_count": null,
   "metadata": {
    "collapsed": true
   },
   "outputs": [],
   "source": []
  },
  {
   "cell_type": "code",
   "execution_count": null,
   "metadata": {
    "collapsed": true
   },
   "outputs": [],
   "source": []
  }
 ],
 "metadata": {
  "kernelspec": {
   "display_name": "Python 3",
   "language": "python",
   "name": "python3"
  },
  "language_info": {
   "codemirror_mode": {
    "name": "ipython",
    "version": 3
   },
   "file_extension": ".py",
   "mimetype": "text/x-python",
   "name": "python",
   "nbconvert_exporter": "python",
   "pygments_lexer": "ipython3",
   "version": "3.5.2"
  }
 },
 "nbformat": 4,
 "nbformat_minor": 2
}
