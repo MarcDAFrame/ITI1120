{
 "cells": [
  {
   "cell_type": "markdown",
   "metadata": {},
   "source": [
    "<div class=\"alert alert-block alert-info\">\n",
    "    <div style=\"font-size: 150%\">\n",
    "        ITI1120 - Introduction to Computer Science\n",
    "    </div>\n",
    "    <br>\n",
    "    <div style=\"font-size: 110%\">\n",
    "        Lecture #21\n",
    "        <br>\n",
    "        Nov. 29th, 2017\n",
    "        <br>\n",
    "        Prof. Vida Dujmovic\n",
    "        <br>\n",
    "        <br>\n",
    "        Notebook By: Marc Frame\n",
    "        <br>\n",
    "        <br>\n",
    "    </div>\n",
    "    <div style=\"font-size: 75%\">\n",
    "    recursion, p = np\n",
    "</div>\n",
    "</div>"
   ]
  },
  {
   "cell_type": "markdown",
   "metadata": {},
   "source": [
    "### p = np\n",
    "### is asks whether every problem whose solution can be quickly verified (technically, verified in polynomial time) can also be solved quickly (again, in polynomial time)."
   ]
  },
  {
   "cell_type": "markdown",
   "metadata": {},
   "source": [
    "<a href='https://en.wikipedia.org/wiki/P_versus_NP_problem' style=\"font-size: 200%\"> Wiki Article on P = NP </a>"
   ]
  },
  {
   "cell_type": "code",
   "execution_count": 1,
   "metadata": {},
   "outputs": [
    {
     "data": {
      "text/plain": [
       "1"
      ]
     },
     "execution_count": 1,
     "metadata": {},
     "output_type": "execute_result"
    }
   ],
   "source": [
    "def mypow(x, n):\n",
    "    '''(int,int)->int\n",
    "    Precondition: n is non-negative'''\n",
    "\n",
    "    if n == 0:\n",
    "        return 1\n",
    "    return x*mypow(x,n-1)\n",
    "\n",
    "mypow(8,0)"
   ]
  },
  {
   "cell_type": "code",
   "execution_count": 2,
   "metadata": {},
   "outputs": [
    {
     "data": {
      "text/plain": [
       "64"
      ]
     },
     "execution_count": 2,
     "metadata": {},
     "output_type": "execute_result"
    }
   ],
   "source": [
    "def mypow2(x, n):\n",
    "    if n == 0:\n",
    "        return 1\n",
    "    if n == 1:\n",
    "        return x\n",
    "    res=mypow(x, n//2)\n",
    "    if n%2==0:\n",
    "        return res*res\n",
    "    else:\n",
    "        return x*res*res\n",
    "    \n",
    "mypow2(8, 2)"
   ]
  }
 ],
 "metadata": {
  "kernelspec": {
   "display_name": "Python 3",
   "language": "python",
   "name": "python3"
  },
  "language_info": {
   "codemirror_mode": {
    "name": "ipython",
    "version": 3
   },
   "file_extension": ".py",
   "mimetype": "text/x-python",
   "name": "python",
   "nbconvert_exporter": "python",
   "pygments_lexer": "ipython3",
   "version": "3.5.2"
  }
 },
 "nbformat": 4,
 "nbformat_minor": 2
}
